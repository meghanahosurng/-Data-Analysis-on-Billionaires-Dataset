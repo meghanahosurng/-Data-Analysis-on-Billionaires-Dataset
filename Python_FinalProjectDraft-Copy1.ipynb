{
 "cells": [
  {
   "cell_type": "markdown",
   "id": "b81aa869",
   "metadata": {},
   "source": [
    "#                            Billionaires Statistics Dataset (2023)"
   ]
  },
  {
   "cell_type": "markdown",
   "id": "d8429d33",
   "metadata": {},
   "source": [
    "## Introduction\n",
    "\n",
    "This dataset contains statistics on the world's billionaires, including information about their businesses, industries, and personal details. It provides insights into the wealth distribution, business sectors, and demographics of billionaires worldwide."
   ]
  },
  {
   "cell_type": "markdown",
   "id": "7cedb4dc",
   "metadata": {},
   "source": [
    "### Variable Description\n",
    "\n",
    "rank: The ranking of the billionaire in terms of wealth.\n",
    "\n",
    "finalWorth: The final net worth of the billionaire in U.S. dollars.\n",
    "\n",
    "category: The category or industry in which the billionaire's business operates.\n",
    "\n",
    "personName: The full name of the billionaire.\n",
    "\n",
    "age: The age of the billionaire.\n",
    "\n",
    "country: The country in which the billionaire resides.\n",
    "\n",
    "city: The city in which the billionaire resides.\n",
    "\n",
    "source: The source of the billionaire's wealth.\n",
    "\n",
    "industries: The industries associated with the billionaire's business interests.\n",
    "\n",
    "countryOfCitizenship: The country of citizenship of the billionaire.\n",
    "\n",
    "organization: The name of the organization or company associated with the billionaire.\n",
    "\n",
    "selfMade: Indicates whether the billionaire is self-made (True/False).\n",
    "\n",
    "status: \"D\" represents self-made billionaires (Founders/Entrepreneurs) and \"U\" indicates inherited or unearned wealth.\n",
    "\n",
    "gender: The gender of the billionaire.\n",
    "\n",
    "birthDate: The birthdate of the billionaire.\n",
    "\n",
    "lastName: The last name of the billionaire.\n",
    "\n",
    "firstName: The first name of the billionaire.\n",
    "\n",
    "title: The title or honorific of the billionaire.\n",
    "\n",
    "date: The date of data collection.\n",
    "\n",
    "state: The state in which the billionaire resides.\n",
    "\n",
    "residenceStateRegion: The region or state of residence of the billionaire.\n",
    "\n",
    "birthYear: The birth year of the billionaire.\n",
    "\n",
    "birthMonth: The birth month of the billionaire.\n",
    "\n",
    "birthDay: The birth day of the billionaire.\n",
    "\n",
    "cpi_country: Consumer Price Index (CPI) for the billionaire's country.\n",
    "\n",
    "cpi_change_country: CPI change for the billionaire's country.\n",
    "\n",
    "gdp_country: Gross Domestic Product (GDP) for the billionaire's country.\n",
    "\n",
    "gross_tertiary_education_enrollment: Enrollment in tertiary education in the billionaire's country.\n",
    "\n",
    "gross_primary_education_enrollment_country: Enrollment in primary education in the billionaire's country.\n",
    "\n",
    "life_expectancy_country: Life expectancy in the billionaire's country.\n",
    "\n",
    "tax_revenue_country_country: Tax revenue in the billionaire's country.\n",
    "\n",
    "total_tax_rate_country: Total tax rate in the billionaire's country.\n",
    "\n",
    "population_country: Population of the billionaire's country.\n",
    "\n",
    "latitude_country: Latitude coordinate of the billionaire's country.\n",
    "\n",
    "longitude_country: Longitude coordinate of the billionaire's country."
   ]
  },
  {
   "cell_type": "markdown",
   "id": "16ef6326",
   "metadata": {},
   "source": [
    "### Potential Use Cases\n",
    "\n",
    "Wealth distribution analysis: Explore the distribution of billionaires' wealth across different industries, countries, and based on gender.\n",
    "\n",
    "Self-made vs. inherited wealth: Analyze the proportion of self-made billionaires and those who inherited their wealth.\n",
    "    \n",
    "Demographic analysis: Investigate the age, gender, and birthplace demographics of billionaires.\n",
    "    \n",
    "Economic indicators: Study correlations between billionaire wealth and economic indicators such as GDP, CPI, and tax rates.\n",
    "    \n",
    "Geospatial analysis: Visualize the geographical distribution of billionaires and their wealth on a map.\n",
    "    \n",
    "Trends over time: Track changes in billionaire demographics and wealth over the years."
   ]
  },
  {
   "cell_type": "code",
   "execution_count": 32,
   "id": "e9f92c75",
   "metadata": {},
   "outputs": [],
   "source": [
    "#!pip install xgboost\n",
    "import matplotlib.pyplot as plt\n",
    "import seaborn as sns\n",
    "import numpy as np\n",
    "import pandas as pd\n",
    "from sklearn.model_selection import train_test_split, GridSearchCV\n",
    "from sklearn.preprocessing import StandardScaler,  LabelEncoder\n",
    "from sklearn.ensemble import RandomForestClassifier, GradientBoostingClassifier\n",
    "from sklearn.metrics import accuracy_score, classification_report, f1_score, confusion_matrix\n",
    "from xgboost import XGBClassifier"
   ]
  },
  {
   "cell_type": "code",
   "execution_count": 33,
   "id": "3587359d",
   "metadata": {},
   "outputs": [],
   "source": [
    "import sqlite3\n",
    "conn = sqlite3.connect('billionaires.db')\n",
    "cur = conn.cursor()\n",
    "cur.execute('''DROP TABLE IF EXISTS export''')\n",
    "conn.commit()\n",
    "\n",
    "from sqlite3 import Error\n",
    "def create_connection(db_file, delete_db=False):\n",
    "    import os\n",
    "    if delete_db and os.path.exists(db_file):\n",
    "        os.remove(db_file)\n",
    "\n",
    "    conn = None\n",
    "    try:\n",
    "        conn = sqlite3.connect(db_file)\n",
    "        conn.execute(\"PRAGMA foreign_keys = 1\")\n",
    "    except Error as e:\n",
    "        print(e)\n",
    "\n",
    "    return conn\n",
    "\n",
    "def create_table(conn, create_table_sql):\n",
    "    try:\n",
    "        c = conn.cursor()\n",
    "        c.execute(create_table_sql)\n",
    "    except Error as e:\n",
    "        print(e)\n",
    "        \n",
    "def execute_sql_statement(sql_statement, conn):\n",
    "    cur = conn.cursor()\n",
    "    cur.execute(sql_statement)\n",
    "    rows = cur.fetchall()\n",
    "    return rows"
   ]
  },
  {
   "cell_type": "markdown",
   "id": "0d4ba21e",
   "metadata": {},
   "source": [
    "### Parsing the CSV file"
   ]
  },
  {
   "cell_type": "code",
   "execution_count": 34,
   "id": "b9d37003",
   "metadata": {},
   "outputs": [],
   "source": [
    "#loop through each char and check if the char is within quotes. If not, it's a delimiter and further split on it. \n",
    "def custom_csv_split(line):\n",
    "    values = []\n",
    "    in_quotes = False\n",
    "    current_value = \"\"\n",
    "\n",
    "    for char in line:\n",
    "        if char == '\"':\n",
    "            in_quotes = not in_quotes\n",
    "        elif char == ',' and not in_quotes:\n",
    "            values.append(current_value)\n",
    "            current_value = \"\"\n",
    "        else:\n",
    "            current_value += char\n",
    "\n",
    "    values.append(current_value)\n",
    "    return values\n",
    "\n",
    "billionaires_data = []\n",
    "\n",
    "with open('billionaires_data.csv', 'r') as file:\n",
    "    lines = file.readlines()\n",
    "    header = custom_csv_split(lines[0])\n",
    "    \n",
    "    for line in lines[1:]:\n",
    "        values = custom_csv_split(line)\n",
    "        row = {header[i]: values[i] for i in range(len(header))}\n",
    "        billionaires_data.append(row)\n"
   ]
  },
  {
   "cell_type": "markdown",
   "id": "f57f70dc",
   "metadata": {},
   "source": [
    "## Normalization\n",
    "### Create Industry table"
   ]
  },
  {
   "cell_type": "code",
   "execution_count": 35,
   "id": "b00c89b0",
   "metadata": {},
   "outputs": [
    {
     "data": {
      "text/html": [
       "<div>\n",
       "<style scoped>\n",
       "    .dataframe tbody tr th:only-of-type {\n",
       "        vertical-align: middle;\n",
       "    }\n",
       "\n",
       "    .dataframe tbody tr th {\n",
       "        vertical-align: top;\n",
       "    }\n",
       "\n",
       "    .dataframe thead th {\n",
       "        text-align: right;\n",
       "    }\n",
       "</style>\n",
       "<table border=\"1\" class=\"dataframe\">\n",
       "  <thead>\n",
       "    <tr style=\"text-align: right;\">\n",
       "      <th></th>\n",
       "      <th>industry_id</th>\n",
       "      <th>industries</th>\n",
       "      <th>source</th>\n",
       "    </tr>\n",
       "  </thead>\n",
       "  <tbody>\n",
       "    <tr>\n",
       "      <th>0</th>\n",
       "      <td>1</td>\n",
       "      <td>Fashion &amp; Retail</td>\n",
       "      <td>LVMH</td>\n",
       "    </tr>\n",
       "    <tr>\n",
       "      <th>1</th>\n",
       "      <td>2</td>\n",
       "      <td>Automotive</td>\n",
       "      <td>Tesla, SpaceX</td>\n",
       "    </tr>\n",
       "    <tr>\n",
       "      <th>2</th>\n",
       "      <td>3</td>\n",
       "      <td>Technology</td>\n",
       "      <td>Amazon</td>\n",
       "    </tr>\n",
       "    <tr>\n",
       "      <th>3</th>\n",
       "      <td>4</td>\n",
       "      <td>Technology</td>\n",
       "      <td>Oracle</td>\n",
       "    </tr>\n",
       "    <tr>\n",
       "      <th>4</th>\n",
       "      <td>5</td>\n",
       "      <td>Finance &amp; Investments</td>\n",
       "      <td>Berkshire Hathaway</td>\n",
       "    </tr>\n",
       "    <tr>\n",
       "      <th>...</th>\n",
       "      <td>...</td>\n",
       "      <td>...</td>\n",
       "      <td>...</td>\n",
       "    </tr>\n",
       "    <tr>\n",
       "      <th>2635</th>\n",
       "      <td>2636</td>\n",
       "      <td>Healthcare</td>\n",
       "      <td>Health clinics</td>\n",
       "    </tr>\n",
       "    <tr>\n",
       "      <th>2636</th>\n",
       "      <td>2637</td>\n",
       "      <td>Food &amp; Beverage</td>\n",
       "      <td>Beer</td>\n",
       "    </tr>\n",
       "    <tr>\n",
       "      <th>2637</th>\n",
       "      <td>2638</td>\n",
       "      <td>Manufacturing</td>\n",
       "      <td>Tyre manufacturing machinery</td>\n",
       "    </tr>\n",
       "    <tr>\n",
       "      <th>2638</th>\n",
       "      <td>2639</td>\n",
       "      <td>Real Estate</td>\n",
       "      <td>Real estate</td>\n",
       "    </tr>\n",
       "    <tr>\n",
       "      <th>2639</th>\n",
       "      <td>2640</td>\n",
       "      <td>Diversified</td>\n",
       "      <td>Diversified</td>\n",
       "    </tr>\n",
       "  </tbody>\n",
       "</table>\n",
       "<p>2640 rows × 3 columns</p>\n",
       "</div>"
      ],
      "text/plain": [
       "      industry_id             industries                        source\n",
       "0               1       Fashion & Retail                          LVMH\n",
       "1               2             Automotive                 Tesla, SpaceX\n",
       "2               3             Technology                        Amazon\n",
       "3               4             Technology                        Oracle\n",
       "4               5  Finance & Investments            Berkshire Hathaway\n",
       "...           ...                    ...                           ...\n",
       "2635         2636             Healthcare                Health clinics\n",
       "2636         2637        Food & Beverage                          Beer\n",
       "2637         2638          Manufacturing  Tyre manufacturing machinery\n",
       "2638         2639            Real Estate                   Real estate\n",
       "2639         2640            Diversified                   Diversified\n",
       "\n",
       "[2640 rows x 3 columns]"
      ]
     },
     "metadata": {},
     "output_type": "display_data"
    }
   ],
   "source": [
    "cur.execute(\"DROP TABLE IF EXISTS Industry;\")\n",
    "\n",
    "create_table_industries_sql = \"\"\"CREATE TABLE IF NOT EXISTS Industry (\n",
    "            industry_id INTEGER PRIMARY KEY AUTOINCREMENT,\n",
    "            industries TEXT,\n",
    "            source TEXT\n",
    "        );\n",
    "\"\"\"\n",
    "\n",
    "# Create the Industries table\n",
    "create_table(conn, create_table_industries_sql)\n",
    "\n",
    "# Insert data into the Industries table\n",
    "cursor = conn.cursor()\n",
    "for row in billionaires_data:\n",
    "    industries = row.get('industries', '').strip('\"\\n').strip()\n",
    "    source = row.get('source', '').strip('\"\\n').strip()  # Assuming 'source' is the column name\n",
    "\n",
    "    if industries and not any(char.isdigit() for char in industries):\n",
    "        cursor.execute('''\n",
    "            INSERT INTO Industry (industries, source)\n",
    "            VALUES (?, ?)\n",
    "        ''', (industries, source))\n",
    "\n",
    "conn.commit()\n",
    "sql_statement = \"Select * from Industry\"\n",
    "df = pd.read_sql_query(sql_statement, conn)\n",
    "display(df) "
   ]
  },
  {
   "cell_type": "markdown",
   "id": "46d3b756",
   "metadata": {},
   "source": [
    "### Create the Countries table"
   ]
  },
  {
   "cell_type": "code",
   "execution_count": 36,
   "id": "8fb7f002",
   "metadata": {},
   "outputs": [
    {
     "data": {
      "text/html": [
       "<div>\n",
       "<style scoped>\n",
       "    .dataframe tbody tr th:only-of-type {\n",
       "        vertical-align: middle;\n",
       "    }\n",
       "\n",
       "    .dataframe tbody tr th {\n",
       "        vertical-align: top;\n",
       "    }\n",
       "\n",
       "    .dataframe thead th {\n",
       "        text-align: right;\n",
       "    }\n",
       "</style>\n",
       "<table border=\"1\" class=\"dataframe\">\n",
       "  <thead>\n",
       "    <tr style=\"text-align: right;\">\n",
       "      <th></th>\n",
       "      <th>country_id</th>\n",
       "      <th>country</th>\n",
       "      <th>city</th>\n",
       "      <th>cpi_country</th>\n",
       "      <th>cpi_change_country</th>\n",
       "      <th>gdp_country</th>\n",
       "      <th>life_expectancy_country</th>\n",
       "      <th>tax_revenue_country</th>\n",
       "      <th>total_tax_rate_country</th>\n",
       "      <th>population_country</th>\n",
       "      <th>latitude_country</th>\n",
       "      <th>longitude_country</th>\n",
       "    </tr>\n",
       "  </thead>\n",
       "  <tbody>\n",
       "    <tr>\n",
       "      <th>0</th>\n",
       "      <td>1</td>\n",
       "      <td>France</td>\n",
       "      <td>Paris</td>\n",
       "      <td>110.05</td>\n",
       "      <td>1.1</td>\n",
       "      <td>$2,715,518,274,227</td>\n",
       "      <td>82.5</td>\n",
       "      <td>None</td>\n",
       "      <td>60.7</td>\n",
       "      <td>6.705989e+07</td>\n",
       "      <td>46.227638</td>\n",
       "      <td>None</td>\n",
       "    </tr>\n",
       "    <tr>\n",
       "      <th>1</th>\n",
       "      <td>2</td>\n",
       "      <td>United States</td>\n",
       "      <td>Austin</td>\n",
       "      <td>117.24</td>\n",
       "      <td>7.5</td>\n",
       "      <td>$21,427,700,000,000</td>\n",
       "      <td>78.5</td>\n",
       "      <td>None</td>\n",
       "      <td>36.6</td>\n",
       "      <td>3.282395e+08</td>\n",
       "      <td>37.090240</td>\n",
       "      <td>None</td>\n",
       "    </tr>\n",
       "    <tr>\n",
       "      <th>2</th>\n",
       "      <td>3</td>\n",
       "      <td>United States</td>\n",
       "      <td>Medina</td>\n",
       "      <td>117.24</td>\n",
       "      <td>7.5</td>\n",
       "      <td>$21,427,700,000,000</td>\n",
       "      <td>78.5</td>\n",
       "      <td>None</td>\n",
       "      <td>36.6</td>\n",
       "      <td>3.282395e+08</td>\n",
       "      <td>37.090240</td>\n",
       "      <td>None</td>\n",
       "    </tr>\n",
       "    <tr>\n",
       "      <th>3</th>\n",
       "      <td>4</td>\n",
       "      <td>United States</td>\n",
       "      <td>Lanai</td>\n",
       "      <td>117.24</td>\n",
       "      <td>7.5</td>\n",
       "      <td>$21,427,700,000,000</td>\n",
       "      <td>78.5</td>\n",
       "      <td>None</td>\n",
       "      <td>36.6</td>\n",
       "      <td>3.282395e+08</td>\n",
       "      <td>37.090240</td>\n",
       "      <td>None</td>\n",
       "    </tr>\n",
       "    <tr>\n",
       "      <th>4</th>\n",
       "      <td>5</td>\n",
       "      <td>United States</td>\n",
       "      <td>Omaha</td>\n",
       "      <td>117.24</td>\n",
       "      <td>7.5</td>\n",
       "      <td>$21,427,700,000,000</td>\n",
       "      <td>78.5</td>\n",
       "      <td>None</td>\n",
       "      <td>36.6</td>\n",
       "      <td>3.282395e+08</td>\n",
       "      <td>37.090240</td>\n",
       "      <td>None</td>\n",
       "    </tr>\n",
       "    <tr>\n",
       "      <th>...</th>\n",
       "      <td>...</td>\n",
       "      <td>...</td>\n",
       "      <td>...</td>\n",
       "      <td>...</td>\n",
       "      <td>...</td>\n",
       "      <td>...</td>\n",
       "      <td>...</td>\n",
       "      <td>...</td>\n",
       "      <td>...</td>\n",
       "      <td>...</td>\n",
       "      <td>...</td>\n",
       "      <td>...</td>\n",
       "    </tr>\n",
       "    <tr>\n",
       "      <th>2635</th>\n",
       "      <td>2636</td>\n",
       "      <td>China</td>\n",
       "      <td>Shanghai</td>\n",
       "      <td>125.08</td>\n",
       "      <td>2.9</td>\n",
       "      <td>$19,910,000,000,000</td>\n",
       "      <td>77.0</td>\n",
       "      <td>None</td>\n",
       "      <td>59.2</td>\n",
       "      <td>1.397715e+09</td>\n",
       "      <td>35.861660</td>\n",
       "      <td>None</td>\n",
       "    </tr>\n",
       "    <tr>\n",
       "      <th>2636</th>\n",
       "      <td>2637</td>\n",
       "      <td>United States</td>\n",
       "      <td>Pottsville</td>\n",
       "      <td>117.24</td>\n",
       "      <td>7.5</td>\n",
       "      <td>$21,427,700,000,000</td>\n",
       "      <td>78.5</td>\n",
       "      <td>None</td>\n",
       "      <td>36.6</td>\n",
       "      <td>3.282395e+08</td>\n",
       "      <td>37.090240</td>\n",
       "      <td>None</td>\n",
       "    </tr>\n",
       "    <tr>\n",
       "      <th>2637</th>\n",
       "      <td>2638</td>\n",
       "      <td>China</td>\n",
       "      <td>Gaomi</td>\n",
       "      <td>125.08</td>\n",
       "      <td>2.9</td>\n",
       "      <td>$19,910,000,000,000</td>\n",
       "      <td>77.0</td>\n",
       "      <td>None</td>\n",
       "      <td>59.2</td>\n",
       "      <td>1.397715e+09</td>\n",
       "      <td>35.861660</td>\n",
       "      <td>None</td>\n",
       "    </tr>\n",
       "    <tr>\n",
       "      <th>2638</th>\n",
       "      <td>2639</td>\n",
       "      <td>China</td>\n",
       "      <td>Nanjing</td>\n",
       "      <td>125.08</td>\n",
       "      <td>2.9</td>\n",
       "      <td>$19,910,000,000,000</td>\n",
       "      <td>77.0</td>\n",
       "      <td>None</td>\n",
       "      <td>59.2</td>\n",
       "      <td>1.397715e+09</td>\n",
       "      <td>35.861660</td>\n",
       "      <td>None</td>\n",
       "    </tr>\n",
       "    <tr>\n",
       "      <th>2639</th>\n",
       "      <td>2640</td>\n",
       "      <td>Philippines</td>\n",
       "      <td>Makati</td>\n",
       "      <td>129.61</td>\n",
       "      <td>2.5</td>\n",
       "      <td>$376,795,508,680</td>\n",
       "      <td>71.1</td>\n",
       "      <td>None</td>\n",
       "      <td>43.1</td>\n",
       "      <td>1.081166e+08</td>\n",
       "      <td>12.879721</td>\n",
       "      <td>None</td>\n",
       "    </tr>\n",
       "  </tbody>\n",
       "</table>\n",
       "<p>2640 rows × 12 columns</p>\n",
       "</div>"
      ],
      "text/plain": [
       "      country_id        country        city  cpi_country  cpi_change_country  \\\n",
       "0              1         France       Paris       110.05                 1.1   \n",
       "1              2  United States      Austin       117.24                 7.5   \n",
       "2              3  United States      Medina       117.24                 7.5   \n",
       "3              4  United States       Lanai       117.24                 7.5   \n",
       "4              5  United States       Omaha       117.24                 7.5   \n",
       "...          ...            ...         ...          ...                 ...   \n",
       "2635        2636          China    Shanghai       125.08                 2.9   \n",
       "2636        2637  United States  Pottsville       117.24                 7.5   \n",
       "2637        2638          China       Gaomi       125.08                 2.9   \n",
       "2638        2639          China     Nanjing       125.08                 2.9   \n",
       "2639        2640    Philippines      Makati       129.61                 2.5   \n",
       "\n",
       "              gdp_country  life_expectancy_country tax_revenue_country  \\\n",
       "0      $2,715,518,274,227                     82.5                None   \n",
       "1     $21,427,700,000,000                     78.5                None   \n",
       "2     $21,427,700,000,000                     78.5                None   \n",
       "3     $21,427,700,000,000                     78.5                None   \n",
       "4     $21,427,700,000,000                     78.5                None   \n",
       "...                   ...                      ...                 ...   \n",
       "2635  $19,910,000,000,000                     77.0                None   \n",
       "2636  $21,427,700,000,000                     78.5                None   \n",
       "2637  $19,910,000,000,000                     77.0                None   \n",
       "2638  $19,910,000,000,000                     77.0                None   \n",
       "2639     $376,795,508,680                     71.1                None   \n",
       "\n",
       "      total_tax_rate_country  population_country  latitude_country  \\\n",
       "0                       60.7        6.705989e+07         46.227638   \n",
       "1                       36.6        3.282395e+08         37.090240   \n",
       "2                       36.6        3.282395e+08         37.090240   \n",
       "3                       36.6        3.282395e+08         37.090240   \n",
       "4                       36.6        3.282395e+08         37.090240   \n",
       "...                      ...                 ...               ...   \n",
       "2635                    59.2        1.397715e+09         35.861660   \n",
       "2636                    36.6        3.282395e+08         37.090240   \n",
       "2637                    59.2        1.397715e+09         35.861660   \n",
       "2638                    59.2        1.397715e+09         35.861660   \n",
       "2639                    43.1        1.081166e+08         12.879721   \n",
       "\n",
       "     longitude_country  \n",
       "0                 None  \n",
       "1                 None  \n",
       "2                 None  \n",
       "3                 None  \n",
       "4                 None  \n",
       "...                ...  \n",
       "2635              None  \n",
       "2636              None  \n",
       "2637              None  \n",
       "2638              None  \n",
       "2639              None  \n",
       "\n",
       "[2640 rows x 12 columns]"
      ]
     },
     "metadata": {},
     "output_type": "display_data"
    }
   ],
   "source": [
    "cur.execute(\"DROP TABLE IF EXISTS Countries;\")\n",
    "\n",
    "create_table_country_sql = \"\"\"CREATE TABLE IF NOT EXISTS Countries (\n",
    "    country_id INTEGER PRIMARY KEY AUTOINCREMENT,\n",
    "    country TEXT,\n",
    "    city TEXT,\n",
    "    cpi_country REAL,\n",
    "    cpi_change_country REAL,\n",
    "    gdp_country REAL,\n",
    "    life_expectancy_country REAL,\n",
    "    tax_revenue_country REAL,\n",
    "    total_tax_rate_country REAL,\n",
    "    population_country INTEGER,\n",
    "    latitude_country REAL,\n",
    "    longitude_country REAL\n",
    ");\n",
    "\"\"\"\n",
    "\n",
    "create_table(conn, create_table_country_sql)\n",
    "\n",
    "# Insert data into the Country table\n",
    "cursor = conn.cursor()\n",
    "for row in billionaires_data:\n",
    "    # Replace blank data with NULL for all columns\n",
    "    values = {\n",
    "        'country': None if row.get('country', '') == '' else row.get('country', ''),\n",
    "        'city': None if row.get('city', '') == '' else row.get('city', ''),\n",
    "        'cpi_country': None if row.get('cpi_country', '') == '' else row.get('cpi_country', ''),\n",
    "        'cpi_change_country': None if row.get('cpi_change_country', '') == '' else row.get('cpi_change_country', ''),\n",
    "        'gdp_country': None if row.get('gdp_country', '') == '' else row.get('gdp_country', '').strip('\"\\n').strip(),\n",
    "        'life_expectancy_country': None if row.get('life_expectancy_country', '') == '' else row.get('life_expectancy_country', '').strip('\"\\n').strip(),\n",
    "        'tax_revenue_country': None if row.get('tax_revenue_country', '') == '' else row.get('tax_revenue_country', ''),\n",
    "        'total_tax_rate_country': None if row.get('total_tax_rate_country', '') == '' else row.get('total_tax_rate_country', '').strip('\"\\n').strip(),\n",
    "        'population_country': None if row.get('population_country', '') == '' else row.get('population_country', ''),\n",
    "        'latitude_country': None if row.get('latitude_country', '') == '' else row.get('latitude_country', ''),\n",
    "        'longitude_country': None if row.get('longitude_country', '') == '' else row.get('longitude_country', '')\n",
    "    }\n",
    "\n",
    "    cursor.execute('''\n",
    "        INSERT INTO Countries (country, city, cpi_country, cpi_change_country, gdp_country,\n",
    "                            life_expectancy_country, tax_revenue_country, total_tax_rate_country,\n",
    "                            population_country, latitude_country, longitude_country)\n",
    "        VALUES (?, ?, ?, ?, ?, ?, ?, ?, ?, ?, ?)\n",
    "    ''', (\n",
    "        values['country'], values['city'], values['cpi_country'],\n",
    "        values['cpi_change_country'], values['gdp_country'],\n",
    "        values['life_expectancy_country'], values['tax_revenue_country'],\n",
    "        values['total_tax_rate_country'], values['population_country'],\n",
    "        values['latitude_country'], values['longitude_country']\n",
    "    ))\n",
    "\n",
    "conn.commit()\n",
    "\n",
    "# Query and display the Country table\n",
    "sql_statement_country = \"SELECT * FROM Countries\"\n",
    "df_country = pd.read_sql_query(sql_statement_country, conn)\n",
    "display(df_country)\n"
   ]
  },
  {
   "cell_type": "markdown",
   "id": "32e3dc48",
   "metadata": {},
   "source": [
    "### Create Billionaires table"
   ]
  },
  {
   "cell_type": "code",
   "execution_count": 37,
   "id": "8a31e26a",
   "metadata": {},
   "outputs": [
    {
     "data": {
      "text/html": [
       "<div>\n",
       "<style scoped>\n",
       "    .dataframe tbody tr th:only-of-type {\n",
       "        vertical-align: middle;\n",
       "    }\n",
       "\n",
       "    .dataframe tbody tr th {\n",
       "        vertical-align: top;\n",
       "    }\n",
       "\n",
       "    .dataframe thead th {\n",
       "        text-align: right;\n",
       "    }\n",
       "</style>\n",
       "<table border=\"1\" class=\"dataframe\">\n",
       "  <thead>\n",
       "    <tr style=\"text-align: right;\">\n",
       "      <th></th>\n",
       "      <th>Billionaire_id</th>\n",
       "      <th>Rank</th>\n",
       "      <th>personName</th>\n",
       "      <th>finalWorth</th>\n",
       "      <th>age</th>\n",
       "      <th>country</th>\n",
       "      <th>industries</th>\n",
       "      <th>selfMade</th>\n",
       "      <th>gender</th>\n",
       "    </tr>\n",
       "  </thead>\n",
       "  <tbody>\n",
       "    <tr>\n",
       "      <th>0</th>\n",
       "      <td>1</td>\n",
       "      <td></td>\n",
       "      <td>Bernard Arnault &amp; family</td>\n",
       "      <td>211000.0</td>\n",
       "      <td>74</td>\n",
       "      <td>France</td>\n",
       "      <td>Fashion &amp; Retail</td>\n",
       "      <td>FALSE</td>\n",
       "      <td>M</td>\n",
       "    </tr>\n",
       "    <tr>\n",
       "      <th>1</th>\n",
       "      <td>2</td>\n",
       "      <td></td>\n",
       "      <td>Elon Musk</td>\n",
       "      <td>180000.0</td>\n",
       "      <td>51</td>\n",
       "      <td>United States</td>\n",
       "      <td>Automotive</td>\n",
       "      <td>TRUE</td>\n",
       "      <td>M</td>\n",
       "    </tr>\n",
       "    <tr>\n",
       "      <th>2</th>\n",
       "      <td>3</td>\n",
       "      <td></td>\n",
       "      <td>Jeff Bezos</td>\n",
       "      <td>114000.0</td>\n",
       "      <td>59</td>\n",
       "      <td>United States</td>\n",
       "      <td>Technology</td>\n",
       "      <td>TRUE</td>\n",
       "      <td>M</td>\n",
       "    </tr>\n",
       "    <tr>\n",
       "      <th>3</th>\n",
       "      <td>4</td>\n",
       "      <td></td>\n",
       "      <td>Larry Ellison</td>\n",
       "      <td>107000.0</td>\n",
       "      <td>78</td>\n",
       "      <td>United States</td>\n",
       "      <td>Technology</td>\n",
       "      <td>TRUE</td>\n",
       "      <td>M</td>\n",
       "    </tr>\n",
       "    <tr>\n",
       "      <th>4</th>\n",
       "      <td>5</td>\n",
       "      <td></td>\n",
       "      <td>Warren Buffett</td>\n",
       "      <td>106000.0</td>\n",
       "      <td>92</td>\n",
       "      <td>United States</td>\n",
       "      <td>Finance &amp; Investments</td>\n",
       "      <td>TRUE</td>\n",
       "      <td>M</td>\n",
       "    </tr>\n",
       "    <tr>\n",
       "      <th>...</th>\n",
       "      <td>...</td>\n",
       "      <td>...</td>\n",
       "      <td>...</td>\n",
       "      <td>...</td>\n",
       "      <td>...</td>\n",
       "      <td>...</td>\n",
       "      <td>...</td>\n",
       "      <td>...</td>\n",
       "      <td>...</td>\n",
       "    </tr>\n",
       "    <tr>\n",
       "      <th>2635</th>\n",
       "      <td>2636</td>\n",
       "      <td></td>\n",
       "      <td>Yu Rong</td>\n",
       "      <td>1000.0</td>\n",
       "      <td>51</td>\n",
       "      <td>China</td>\n",
       "      <td>Healthcare</td>\n",
       "      <td>TRUE</td>\n",
       "      <td>M</td>\n",
       "    </tr>\n",
       "    <tr>\n",
       "      <th>2636</th>\n",
       "      <td>2637</td>\n",
       "      <td></td>\n",
       "      <td>Richard Yuengling Jr.</td>\n",
       "      <td>1000.0</td>\n",
       "      <td>80</td>\n",
       "      <td>United States</td>\n",
       "      <td>Food &amp; Beverage</td>\n",
       "      <td>FALSE</td>\n",
       "      <td>M</td>\n",
       "    </tr>\n",
       "    <tr>\n",
       "      <th>2637</th>\n",
       "      <td>2638</td>\n",
       "      <td></td>\n",
       "      <td>Zhang Gongyun</td>\n",
       "      <td>1000.0</td>\n",
       "      <td>60</td>\n",
       "      <td>China</td>\n",
       "      <td>Manufacturing</td>\n",
       "      <td>TRUE</td>\n",
       "      <td>M</td>\n",
       "    </tr>\n",
       "    <tr>\n",
       "      <th>2638</th>\n",
       "      <td>2639</td>\n",
       "      <td></td>\n",
       "      <td>Zhang Guiping &amp; family</td>\n",
       "      <td>1000.0</td>\n",
       "      <td>71</td>\n",
       "      <td>China</td>\n",
       "      <td>Real Estate</td>\n",
       "      <td>TRUE</td>\n",
       "      <td>M</td>\n",
       "    </tr>\n",
       "    <tr>\n",
       "      <th>2639</th>\n",
       "      <td>2640</td>\n",
       "      <td></td>\n",
       "      <td>Inigo Zobel</td>\n",
       "      <td>1000.0</td>\n",
       "      <td>66</td>\n",
       "      <td>Philippines</td>\n",
       "      <td>Diversified</td>\n",
       "      <td>FALSE</td>\n",
       "      <td>M</td>\n",
       "    </tr>\n",
       "  </tbody>\n",
       "</table>\n",
       "<p>2640 rows × 9 columns</p>\n",
       "</div>"
      ],
      "text/plain": [
       "      Billionaire_id Rank                personName  finalWorth age  \\\n",
       "0                  1       Bernard Arnault & family    211000.0  74   \n",
       "1                  2                      Elon Musk    180000.0  51   \n",
       "2                  3                     Jeff Bezos    114000.0  59   \n",
       "3                  4                  Larry Ellison    107000.0  78   \n",
       "4                  5                 Warren Buffett    106000.0  92   \n",
       "...              ...  ...                       ...         ...  ..   \n",
       "2635            2636                        Yu Rong      1000.0  51   \n",
       "2636            2637          Richard Yuengling Jr.      1000.0  80   \n",
       "2637            2638                  Zhang Gongyun      1000.0  60   \n",
       "2638            2639         Zhang Guiping & family      1000.0  71   \n",
       "2639            2640                    Inigo Zobel      1000.0  66   \n",
       "\n",
       "            country             industries selfMade gender  \n",
       "0            France       Fashion & Retail    FALSE      M  \n",
       "1     United States             Automotive     TRUE      M  \n",
       "2     United States             Technology     TRUE      M  \n",
       "3     United States             Technology     TRUE      M  \n",
       "4     United States  Finance & Investments     TRUE      M  \n",
       "...             ...                    ...      ...    ...  \n",
       "2635          China             Healthcare     TRUE      M  \n",
       "2636  United States        Food & Beverage    FALSE      M  \n",
       "2637          China          Manufacturing     TRUE      M  \n",
       "2638          China            Real Estate     TRUE      M  \n",
       "2639    Philippines            Diversified    FALSE      M  \n",
       "\n",
       "[2640 rows x 9 columns]"
      ]
     },
     "metadata": {},
     "output_type": "display_data"
    }
   ],
   "source": [
    "cur.execute(\"DROP TABLE IF EXISTS Billionaires;\")\n",
    "create_table_sql = \"\"\"CREATE TABLE IF NOT EXISTS Billionaires (\n",
    "            Billionaire_id INTEGER PRIMARY KEY AUTOINCREMENT,\n",
    "            \n",
    "            Rank INTEGER,\n",
    "            personName TEXT NOT NULL,\n",
    "            finalWorth REAL,\n",
    "            age INTEGER,\n",
    "            country TEXT,\n",
    "            industries TEXT,\n",
    "            selfMade TEXT,\n",
    "            gender TEXT,\n",
    "            FOREIGN KEY(Billionaire_id) REFERENCES Countries(country_id),\n",
    "            FOREIGN KEY(Billionaire_id) REFERENCES Industry(industry_id)\n",
    "        );\n",
    "  \"\"\"\n",
    "create_table(conn, create_table_sql)\n",
    "def insert_billionaires_data(conn, data):\n",
    "\n",
    "    cursor = conn.cursor()\n",
    "    for row in data:\n",
    "        cursor.execute('''\n",
    "            INSERT INTO Billionaires (Rank, personName, finalWorth, age, country, industries, selfMade, gender)\n",
    "            VALUES (?, ?, ?, ?, ?, ?, ?, ?)\n",
    "        ''', (\n",
    "            row.get('rank', ''),\n",
    "            row.get('personName', ''),\n",
    "            row.get('finalWorth', 0),\n",
    "            row.get('age', 0),\n",
    "            row.get('country', ''),\n",
    "            row.get('industries', ''),\n",
    "            row.get('selfMade', ''),\n",
    "            row.get('gender', '')\n",
    "        ))\n",
    "    conn.commit()\n",
    "\n",
    "insert_billionaires_data(conn, billionaires_data)\n",
    "sql_statement = \"Select * from Billionaires\"\n",
    "df = pd.read_sql_query(sql_statement, conn)\n",
    "display(df) "
   ]
  },
  {
   "cell_type": "markdown",
   "id": "4b509faa",
   "metadata": {},
   "source": [
    "### SQL join statements to retrieve data into Pandas for analysis."
   ]
  },
  {
   "cell_type": "code",
   "execution_count": 38,
   "id": "5ad10f2a",
   "metadata": {},
   "outputs": [
    {
     "data": {
      "text/html": [
       "<div>\n",
       "<style scoped>\n",
       "    .dataframe tbody tr th:only-of-type {\n",
       "        vertical-align: middle;\n",
       "    }\n",
       "\n",
       "    .dataframe tbody tr th {\n",
       "        vertical-align: top;\n",
       "    }\n",
       "\n",
       "    .dataframe thead th {\n",
       "        text-align: right;\n",
       "    }\n",
       "</style>\n",
       "<table border=\"1\" class=\"dataframe\">\n",
       "  <thead>\n",
       "    <tr style=\"text-align: right;\">\n",
       "      <th></th>\n",
       "      <th>Billionaire_id</th>\n",
       "      <th>personName</th>\n",
       "      <th>finalWorth</th>\n",
       "      <th>age</th>\n",
       "      <th>selfMade</th>\n",
       "      <th>gender</th>\n",
       "      <th>country</th>\n",
       "      <th>industries</th>\n",
       "    </tr>\n",
       "  </thead>\n",
       "  <tbody>\n",
       "    <tr>\n",
       "      <th>0</th>\n",
       "      <td>1</td>\n",
       "      <td>Bernard Arnault &amp; family</td>\n",
       "      <td>211000.0</td>\n",
       "      <td>74</td>\n",
       "      <td>FALSE</td>\n",
       "      <td>M</td>\n",
       "      <td>France</td>\n",
       "      <td>Fashion &amp; Retail</td>\n",
       "    </tr>\n",
       "    <tr>\n",
       "      <th>1</th>\n",
       "      <td>2</td>\n",
       "      <td>Elon Musk</td>\n",
       "      <td>180000.0</td>\n",
       "      <td>51</td>\n",
       "      <td>TRUE</td>\n",
       "      <td>M</td>\n",
       "      <td>United States</td>\n",
       "      <td>Automotive</td>\n",
       "    </tr>\n",
       "    <tr>\n",
       "      <th>2</th>\n",
       "      <td>3</td>\n",
       "      <td>Jeff Bezos</td>\n",
       "      <td>114000.0</td>\n",
       "      <td>59</td>\n",
       "      <td>TRUE</td>\n",
       "      <td>M</td>\n",
       "      <td>United States</td>\n",
       "      <td>Technology</td>\n",
       "    </tr>\n",
       "    <tr>\n",
       "      <th>3</th>\n",
       "      <td>4</td>\n",
       "      <td>Larry Ellison</td>\n",
       "      <td>107000.0</td>\n",
       "      <td>78</td>\n",
       "      <td>TRUE</td>\n",
       "      <td>M</td>\n",
       "      <td>United States</td>\n",
       "      <td>Technology</td>\n",
       "    </tr>\n",
       "    <tr>\n",
       "      <th>4</th>\n",
       "      <td>5</td>\n",
       "      <td>Warren Buffett</td>\n",
       "      <td>106000.0</td>\n",
       "      <td>92</td>\n",
       "      <td>TRUE</td>\n",
       "      <td>M</td>\n",
       "      <td>United States</td>\n",
       "      <td>Finance &amp; Investments</td>\n",
       "    </tr>\n",
       "  </tbody>\n",
       "</table>\n",
       "</div>"
      ],
      "text/plain": [
       "   Billionaire_id                personName  finalWorth age selfMade gender  \\\n",
       "0               1  Bernard Arnault & family    211000.0  74    FALSE      M   \n",
       "1               2                 Elon Musk    180000.0  51     TRUE      M   \n",
       "2               3                Jeff Bezos    114000.0  59     TRUE      M   \n",
       "3               4             Larry Ellison    107000.0  78     TRUE      M   \n",
       "4               5            Warren Buffett    106000.0  92     TRUE      M   \n",
       "\n",
       "         country             industries  \n",
       "0         France       Fashion & Retail  \n",
       "1  United States             Automotive  \n",
       "2  United States             Technology  \n",
       "3  United States             Technology  \n",
       "4  United States  Finance & Investments  "
      ]
     },
     "execution_count": 38,
     "metadata": {},
     "output_type": "execute_result"
    }
   ],
   "source": [
    "sql_query = '''\n",
    "    SELECT\n",
    "        Billionaires.Billionaire_id,\n",
    "        Billionaires.personName,\n",
    "        Billionaires.finalWorth,\n",
    "        Billionaires.age,\n",
    "        Billionaires.selfMade,\n",
    "        Billionaires.gender,\n",
    "        Countries.country,\n",
    "        Industry.industries\n",
    "        \n",
    "    FROM\n",
    "        Billionaires\n",
    "    JOIN\n",
    "        Countries ON Billionaires.Billionaire_id = Countries.country_id\n",
    "    JOIN\n",
    "        industry ON Billionaires.Billionaire_id = Industry.industry_id\n",
    "'''\n",
    "\n",
    "# Execute the SQL query and fetch results into a Pandas DataFrame\n",
    "df = pd.read_sql_query(sql_query, conn)\n",
    "\n",
    "# Close the database connection\n",
    "conn.close()\n",
    "\n",
    "# Display the DataFrame\n",
    "df.head()"
   ]
  },
  {
   "cell_type": "markdown",
   "id": "0c017f4a",
   "metadata": {},
   "source": [
    "### Data Overview"
   ]
  },
  {
   "cell_type": "code",
   "execution_count": 39,
   "id": "b3f55994",
   "metadata": {},
   "outputs": [
    {
     "data": {
      "text/plain": [
       "(2640, 8)"
      ]
     },
     "execution_count": 39,
     "metadata": {},
     "output_type": "execute_result"
    }
   ],
   "source": [
    "df.shape"
   ]
  },
  {
   "cell_type": "code",
   "execution_count": 40,
   "id": "148a0497",
   "metadata": {},
   "outputs": [
    {
     "name": "stdout",
     "output_type": "stream",
     "text": [
      "<class 'pandas.core.frame.DataFrame'>\n",
      "RangeIndex: 2640 entries, 0 to 2639\n",
      "Data columns (total 8 columns):\n",
      " #   Column          Non-Null Count  Dtype  \n",
      "---  ------          --------------  -----  \n",
      " 0   Billionaire_id  2640 non-null   int64  \n",
      " 1   personName      2640 non-null   object \n",
      " 2   finalWorth      2640 non-null   float64\n",
      " 3   age             2640 non-null   object \n",
      " 4   selfMade        2640 non-null   object \n",
      " 5   gender          2640 non-null   object \n",
      " 6   country         2602 non-null   object \n",
      " 7   industries      2640 non-null   object \n",
      "dtypes: float64(1), int64(1), object(6)\n",
      "memory usage: 165.1+ KB\n"
     ]
    }
   ],
   "source": [
    "df.info()"
   ]
  },
  {
   "cell_type": "code",
   "execution_count": 41,
   "id": "dab27244",
   "metadata": {},
   "outputs": [
    {
     "data": {
      "text/plain": [
       "Billionaire_id     0\n",
       "personName         0\n",
       "finalWorth         0\n",
       "age                0\n",
       "selfMade           0\n",
       "gender             0\n",
       "country           38\n",
       "industries         0\n",
       "dtype: int64"
      ]
     },
     "execution_count": 41,
     "metadata": {},
     "output_type": "execute_result"
    }
   ],
   "source": [
    "df.isnull().sum()"
   ]
  },
  {
   "cell_type": "code",
   "execution_count": 42,
   "id": "2ec7e585",
   "metadata": {},
   "outputs": [],
   "source": [
    "# Drop rows with missing values\n",
    "df = df.dropna()"
   ]
  },
  {
   "cell_type": "code",
   "execution_count": 43,
   "id": "8c1fc7b1",
   "metadata": {},
   "outputs": [
    {
     "data": {
      "text/plain": [
       "count      2602.000000\n",
       "mean       4655.995388\n",
       "std        9897.776858\n",
       "min        1000.000000\n",
       "25%        1500.000000\n",
       "50%        2300.000000\n",
       "75%        4300.000000\n",
       "max      211000.000000\n",
       "Name: finalWorth, dtype: float64"
      ]
     },
     "execution_count": 43,
     "metadata": {},
     "output_type": "execute_result"
    }
   ],
   "source": [
    "df[\"finalWorth\"].describe()"
   ]
  },
  {
   "cell_type": "markdown",
   "id": "f4fdbf2e",
   "metadata": {},
   "source": [
    "describe() shows the statistics of numerical variables \n",
    "## Exploratory Data Analysis"
   ]
  },
  {
   "cell_type": "code",
   "execution_count": 44,
   "id": "ea74d42a",
   "metadata": {},
   "outputs": [
    {
     "data": {
      "text/plain": [
       "<Axes: xlabel='finalWorth', ylabel='Count'>"
      ]
     },
     "execution_count": 44,
     "metadata": {},
     "output_type": "execute_result"
    },
    {
     "data": {
      "image/png": "[encoded data removed]",
      "text/plain": [
       "<Figure size 640x480 with 1 Axes>"
      ]
     },
     "metadata": {},
     "output_type": "display_data"
    }
   ],
   "source": [
    "# Net Worth Insights\n",
    "sns.histplot(df, x='finalWorth', log_scale=True)"
   ]
  },
  {
   "cell_type": "code",
   "execution_count": 45,
   "id": "7911aeab",
   "metadata": {},
   "outputs": [
    {
     "data": {
      "text/plain": [
       "93.04"
      ]
     },
     "execution_count": 45,
     "metadata": {},
     "output_type": "execute_result"
    }
   ],
   "source": [
    "round((df[df['finalWorth'] < 10000].shape[0] / df.shape[0]) * 100, 2)"
   ]
  },
  {
   "cell_type": "markdown",
   "id": "7ec6bd3a",
   "metadata": {},
   "source": [
    "#### 93% of billionaires have a net worth less than 10,000 (10 Billion US Dollars)."
   ]
  },
  {
   "cell_type": "code",
   "execution_count": 46,
   "id": "696688c8",
   "metadata": {},
   "outputs": [
    {
     "data": {
      "image/png": "[encoded data removed]",
      "text/plain": [
       "<Figure size 1200x400 with 1 Axes>"
      ]
     },
     "metadata": {},
     "output_type": "display_data"
    }
   ],
   "source": [
    "colors = ['#FF6B6B', '#6BFF6B']\n",
    "\n",
    "plt.figure(figsize=(12, 4))\n",
    "df['selfMade'].value_counts().plot(kind='bar', color=colors)\n",
    "plt.title('Self-made vs. Inherited Wealth', fontsize=16)\n",
    "plt.xlabel('Wealth Source', fontsize=12)\n",
    "plt.ylabel('Count', fontsize=12)\n",
    "\n",
    "sns.set_style(\"whitegrid\")\n",
    "sns.despine(left=True)\n",
    "plt.grid(axis='y', linestyle='--', alpha=0.7)\n",
    "\n",
    "plt.show()"
   ]
  },
  {
   "cell_type": "code",
   "execution_count": 47,
   "id": "d9a2863d",
   "metadata": {},
   "outputs": [
    {
     "data": {
      "text/plain": [
       "array(['FALSE', 'TRUE'], dtype=object)"
      ]
     },
     "execution_count": 47,
     "metadata": {},
     "output_type": "execute_result"
    }
   ],
   "source": [
    "df[\"selfMade\"].unique()"
   ]
  },
  {
   "cell_type": "code",
   "execution_count": 48,
   "id": "9d018004",
   "metadata": {},
   "outputs": [
    {
     "data": {
      "text/plain": [
       "array(['France', 'United States', 'Mexico', 'India', 'Spain', 'China',\n",
       "       'Canada', 'Germany', 'Switzerland', 'Belgium', 'Hong Kong',\n",
       "       'Austria', 'Japan', 'United Kingdom', 'Australia', 'Indonesia',\n",
       "       'United Arab Emirates', 'Russia', 'Chile', 'Monaco',\n",
       "       'Czech Republic', 'Sweden', 'Thailand', 'Uzbekistan', 'Singapore',\n",
       "       'Nigeria', 'Israel', 'Italy', 'South Africa', 'Brazil', 'Malaysia',\n",
       "       'South Korea', 'New Zealand', 'Philippines', 'Taiwan', 'Norway',\n",
       "       'Egypt', 'Denmark', 'Eswatini (Swaziland)', 'Colombia',\n",
       "       'Netherlands', 'Poland', 'Bahamas', 'Ukraine', 'Cayman Islands',\n",
       "       'Greece', 'Turkey', 'Argentina', 'Georgia', 'Portugal',\n",
       "       'Kazakhstan', 'Algeria', 'Vietnam', 'Latvia', 'Finland', 'Bermuda',\n",
       "       'Luxembourg', 'British Virgin Islands', 'Cambodia', 'Lebanon',\n",
       "       'Oman', 'Ireland', 'Cyprus', 'Guernsey', 'Liechtenstein',\n",
       "       'Turks and Caicos Islands', 'Romania', 'Qatar', 'Uruguay', 'Nepal',\n",
       "       'Slovakia', 'Morocco', 'Hungary', 'Tanzania', 'Bahrain', 'Peru',\n",
       "       'Andorra', 'Armenia'], dtype=object)"
      ]
     },
     "execution_count": 48,
     "metadata": {},
     "output_type": "execute_result"
    }
   ],
   "source": [
    "df[\"country\"].unique()"
   ]
  },
  {
   "cell_type": "code",
   "execution_count": 49,
   "id": "1d7ef71a",
   "metadata": {},
   "outputs": [
    {
     "data": {
      "image/png": "[encoded data removed]",
      "text/plain": [
       "<Figure size 2000x600 with 1 Axes>"
      ]
     },
     "metadata": {},
     "output_type": "display_data"
    }
   ],
   "source": [
    "plt.figure(figsize=(20, 6))\n",
    "sns.histplot(data=df[df['age'].notnull()], x='age', bins=30, color='skyblue', kde=True)\n",
    "plt.title('Distribution of Billionaires\\' Ages', fontsize=16)\n",
    "plt.xlabel('Age', fontsize=12)\n",
    "plt.ylabel('Count', fontsize=12)\n",
    "\n",
    "sns.set_style(\"whitegrid\")\n",
    "sns.despine(left=True)\n",
    "plt.grid(axis='y', linestyle='--', alpha=0.7)\n",
    "\n",
    "plt.show()"
   ]
  },
  {
   "cell_type": "code",
   "execution_count": 50,
   "id": "b005731f",
   "metadata": {},
   "outputs": [
    {
     "data": {
      "image/png": "[encoded data removed]",
      "text/plain": [
       "<Figure size 2000x600 with 1 Axes>"
      ]
     },
     "metadata": {},
     "output_type": "display_data"
    }
   ],
   "source": [
    "top_countries =  df['country'].value_counts().head(10)\n",
    "\n",
    "colors = sns.color_palette(\"pastel\")\n",
    "\n",
    "plt.figure(figsize=(20, 6))\n",
    "sns.barplot(x=top_countries.index, y=top_countries, palette=colors)\n",
    "plt.title('Top Countries with the Highest Number of Billionaires', fontsize=16)\n",
    "plt.xlabel('Country', fontsize=12)\n",
    "plt.ylabel('Number of Billionaires', fontsize=12)\n",
    "plt.xticks(rotation=45, fontsize=10)\n",
    "plt.yticks(fontsize=10)\n",
    "plt.grid(axis='y', linestyle='--', alpha=0.7)\n",
    "\n",
    "for i, v in enumerate(top_countries):\n",
    "    plt.text(i, v + 5, str(v), color='black', ha='center', va='bottom', fontsize=10)\n",
    "\n",
    "plt.show()"
   ]
  },
  {
   "cell_type": "code",
   "execution_count": 51,
   "id": "8f1d6a44",
   "metadata": {},
   "outputs": [
    {
     "data": {
      "image/png": "[encoded data removed]",
      "text/plain": [
       "<Figure size 2000x600 with 1 Axes>"
      ]
     },
     "metadata": {},
     "output_type": "display_data"
    }
   ],
   "source": [
    "top_industries = df['industries'].value_counts().head(10)\n",
    "\n",
    "plt.figure(figsize=(20, 6))\n",
    "sns.barplot(x=df['industries'].value_counts().head(10).index, y=top_industries, palette=colors)\n",
    "plt.title('Top Industries Dominating Billionaire Representation', fontsize=16)\n",
    "plt.xlabel('Industry', fontsize=12)\n",
    "plt.ylabel('Number of Billionaires', fontsize=12)\n",
    "plt.xticks(rotation=45, fontsize=10)\n",
    "plt.yticks(fontsize=10)\n",
    "plt.grid(axis='y', linestyle='--', alpha=0.7)\n",
    "\n",
    "for i, v in enumerate(top_industries):\n",
    "    plt.text(i, v + 5, str(v), color='black', ha='center', va='bottom', fontsize=10)\n",
    "\n",
    "plt.show()"
   ]
  },
  {
   "cell_type": "code",
   "execution_count": 52,
   "id": "de42ba3b",
   "metadata": {},
   "outputs": [
    {
     "data": {
      "text/plain": [
       "<Axes: ylabel='gender'>"
      ]
     },
     "execution_count": 52,
     "metadata": {},
     "output_type": "execute_result"
    },
    {
     "data": {
      "image/png": "[encoded data removed]",
      "text/plain": [
       "<Figure size 640x480 with 1 Axes>"
      ]
     },
     "metadata": {},
     "output_type": "display_data"
    }
   ],
   "source": [
    "# Visualizing gender distribution\n",
    "df['gender'].value_counts().plot(kind='pie', autopct='%1.1f%%')"
   ]
  },
  {
   "cell_type": "code",
   "execution_count": 53,
   "id": "3e5a0c52",
   "metadata": {},
   "outputs": [
    {
     "data": {
      "text/html": [
       "<div>\n",
       "<style scoped>\n",
       "    .dataframe tbody tr th:only-of-type {\n",
       "        vertical-align: middle;\n",
       "    }\n",
       "\n",
       "    .dataframe tbody tr th {\n",
       "        vertical-align: top;\n",
       "    }\n",
       "\n",
       "    .dataframe thead th {\n",
       "        text-align: right;\n",
       "    }\n",
       "</style>\n",
       "<table border=\"1\" class=\"dataframe\">\n",
       "  <thead>\n",
       "    <tr style=\"text-align: right;\">\n",
       "      <th></th>\n",
       "      <th>gender</th>\n",
       "      <th>finalWorth</th>\n",
       "    </tr>\n",
       "  </thead>\n",
       "  <tbody>\n",
       "    <tr>\n",
       "      <th>0</th>\n",
       "      <td>F</td>\n",
       "      <td>4627.384615</td>\n",
       "    </tr>\n",
       "    <tr>\n",
       "      <th>1</th>\n",
       "      <td>M</td>\n",
       "      <td>4660.079051</td>\n",
       "    </tr>\n",
       "  </tbody>\n",
       "</table>\n",
       "</div>"
      ],
      "text/plain": [
       "  gender   finalWorth\n",
       "0      F  4627.384615\n",
       "1      M  4660.079051"
      ]
     },
     "execution_count": 53,
     "metadata": {},
     "output_type": "execute_result"
    }
   ],
   "source": [
    "df.groupby('gender', as_index=False)['finalWorth'].mean()"
   ]
  },
  {
   "cell_type": "markdown",
   "id": "88270dce",
   "metadata": {},
   "source": [
    "### Hypothesis Testing\n",
    "### Is there a significant difference between the net worth of male and female billionaires?\n",
    "### Ho = No difference in net worth\n",
    "### H1 = Difference in net worth"
   ]
  },
  {
   "cell_type": "code",
   "execution_count": 54,
   "id": "7c3b07c5",
   "metadata": {},
   "outputs": [
    {
     "name": "stdout",
     "output_type": "stream",
     "text": [
      "T-statistic: 0.05569580661275628\n",
      "P-value: 0.9555884195269275\n"
     ]
    }
   ],
   "source": [
    "female_fw = df[df['gender'] == 'F']['finalWorth']\n",
    "male_fw = df[df['gender'] == 'M']['finalWorth']\n",
    "import scipy.stats as stats\n",
    "t_statistic, p_value = stats.ttest_ind(male_fw, female_fw)\n",
    "\n",
    "print(f'T-statistic: {t_statistic}')\n",
    "print(f'P-value: {p_value}')"
   ]
  },
  {
   "cell_type": "markdown",
   "id": "aed8c4f5",
   "metadata": {},
   "source": [
    "### As the T value is small and the P value is far greater than 0.05, the conclusion is that there is no statistically significant difference in the final worth of men and women."
   ]
  },
  {
   "cell_type": "code",
   "execution_count": 55,
   "id": "0a9bbf39",
   "metadata": {},
   "outputs": [],
   "source": [
    "df = pd.get_dummies(df, columns=['gender',\"country\",'industries'], drop_first=True)\n",
    "df.replace('', np.nan, inplace=True)\n",
    "\n",
    "# Drop rows with empty strings\n",
    "df = df.dropna()\n",
    "# Separate features (X) and target variable (y)\n",
    "X = df.drop(['selfMade', 'Billionaire_id','personName'], axis=1)  # Drop target and irrelevant columns\n",
    "y = df['selfMade']\n",
    "\n",
    "scaler=StandardScaler()\n",
    "X_pf=pd.DataFrame(scaler.fit_transform(X), columns=X.columns)\n",
    "# Split the data into training and testing sets\n",
    "#X_train, X_test, y_train, y_test = train_test_split(X, y, test_size=0.2, random_state=42)\n",
    "X_train, X2, y_train, y2 = train_test_split(X_pf, y, train_size=0.5, shuffle=True, \n",
    "                                            stratify=y, random_state=55)\n",
    "\n",
    "# Create validation and test sets\n",
    "X_val, X_test, y_val, y_test = train_test_split(X2, y2, test_size=0.5, shuffle=True,\n",
    "                                                stratify=y2, random_state=55)\n"
   ]
  },
  {
   "cell_type": "code",
   "execution_count": 56,
   "id": "013394ab",
   "metadata": {},
   "outputs": [],
   "source": [
    "label_encoder = LabelEncoder()\n",
    "y_train_encoded = label_encoder.fit_transform(y_train)\n",
    "y_val_encoded = label_encoder.transform(y_val)\n",
    "\n",
    "models = [RandomForestClassifier(), GradientBoostingClassifier(), XGBClassifier()]\n",
    "\n",
    "train_score = []\n",
    "validation_score = []\n",
    "\n",
    "for model in models:\n",
    "    # Use the training data set to develop the model.\n",
    "    model.fit(X_train, y_train_encoded)\n",
    "    # Compute statistical values such as f1 score identifying the model development performance.\n",
    "    y_train_pred = model.predict(X_train)\n",
    "    train_score.append(f1_score(y_train_encoded, y_train_pred))\n",
    "    # Calculate the model results to the data points in the validation data set.\n",
    "    y_val_pred = model.predict(X_val)\n",
    "    # Compute statistical values comparing the model results to the validation data.\n",
    "    validation_score.append(f1_score(y_val_encoded, y_val_pred))\n"
   ]
  },
  {
   "cell_type": "code",
   "execution_count": 57,
   "id": "ede8bb70",
   "metadata": {},
   "outputs": [
    {
     "data": {
      "application/vnd.plotly.v1+json": {
       "config": {
        "plotlyServerURL": "https://plot.ly"
       },
       "data": [
        {
         "hovertemplate": "accuracy of %{x} = %{y:.2f}%<extra></extra>",
         "marker": {
          "color": "#AF4343",
          "line": {
           "color": "#000000",
           "width": 1
          },
          "opacity": 0.8
         },
         "name": "Train",
         "text": [
          "0.9994378864530634",
          "0.892243623112962",
          "0.9680968096809681"
         ],
         "textposition": "outside",
         "texttemplate": "%{text:.2f}%",
         "type": "bar",
         "width": 0.38,
         "x": [
          "RandomForestClassifier",
          "GradientBoostingClassifier",
          "XGBClassifier"
         ],
         "y": [
          0.9994378864530634,
          0.892243623112962,
          0.9680968096809681
         ]
        },
        {
         "hovertemplate": "accuracy of %{x} = %{y:.2f}%<extra></extra>",
         "marker": {
          "color": "#C6AA97",
          "line": {
           "color": "#000000",
           "width": 1
          },
          "opacity": 0.8
         },
         "name": "validation",
         "text": [
          "0.8453837597330367",
          "0.8645833333333333",
          "0.8530701754385964"
         ],
         "textposition": "outside",
         "texttemplate": "%{text:.2f}%",
         "type": "bar",
         "width": 0.38,
         "x": [
          "RandomForestClassifier",
          "GradientBoostingClassifier",
          "XGBClassifier"
         ],
         "y": [
          0.8453837597330367,
          0.8645833333333333,
          0.8530701754385964
         ]
        }
       ],
       "layout": {
        "bargap": 0.15,
        "barmode": "group",
        "legend": {
         "orientation": "h",
         "x": 0.97,
         "xanchor": "right",
         "y": 1,
         "yanchor": "bottom"
        },
        "showlegend": true,
        "template": {
         "data": {
          "bar": [
           {
            "error_x": {
             "color": "#2a3f5f"
            },
            "error_y": {
             "color": "#2a3f5f"
            },
            "marker": {
             "line": {
              "color": "#E5ECF6",
              "width": 0.5
             },
             "pattern": {
              "fillmode": "overlay",
              "size": 10,
              "solidity": 0.2
             }
            },
            "type": "bar"
           }
          ],
          "barpolar": [
           {
            "marker": {
             "line": {
              "color": "#E5ECF6",
              "width": 0.5
             },
             "pattern": {
              "fillmode": "overlay",
              "size": 10,
              "solidity": 0.2
             }
            },
            "type": "barpolar"
           }
          ],
          "carpet": [
           {
            "aaxis": {
             "endlinecolor": "#2a3f5f",
             "gridcolor": "white",
             "linecolor": "white",
             "minorgridcolor": "white",
             "startlinecolor": "#2a3f5f"
            },
            "baxis": {
             "endlinecolor": "#2a3f5f",
             "gridcolor": "white",
             "linecolor": "white",
             "minorgridcolor": "white",
             "startlinecolor": "#2a3f5f"
            },
            "type": "carpet"
           }
          ],
          "choropleth": [
           {
            "colorbar": {
             "outlinewidth": 0,
             "ticks": ""
            },
            "type": "choropleth"
           }
          ],
          "contour": [
           {
            "colorbar": {
             "outlinewidth": 0,
             "ticks": ""
            },
            "colorscale": [
             [
              0,
              "#0d0887"
             ],
             [
              0.1111111111111111,
              "#46039f"
             ],
             [
              0.2222222222222222,
              "#7201a8"
             ],
             [
              0.3333333333333333,
              "#9c179e"
             ],
             [
              0.4444444444444444,
              "#bd3786"
             ],
             [
              0.5555555555555556,
              "#d8576b"
             ],
             [
              0.6666666666666666,
              "#ed7953"
             ],
             [
              0.7777777777777778,
              "#fb9f3a"
             ],
             [
              0.8888888888888888,
              "#fdca26"
             ],
             [
              1,
              "#f0f921"
             ]
            ],
            "type": "contour"
           }
          ],
          "contourcarpet": [
           {
            "colorbar": {
             "outlinewidth": 0,
             "ticks": ""
            },
            "type": "contourcarpet"
           }
          ],
          "heatmap": [
           {
            "colorbar": {
             "outlinewidth": 0,
             "ticks": ""
            },
            "colorscale": [
             [
              0,
              "#0d0887"
             ],
             [
              0.1111111111111111,
              "#46039f"
             ],
             [
              0.2222222222222222,
              "#7201a8"
             ],
             [
              0.3333333333333333,
              "#9c179e"
             ],
             [
              0.4444444444444444,
              "#bd3786"
             ],
             [
              0.5555555555555556,
              "#d8576b"
             ],
             [
              0.6666666666666666,
              "#ed7953"
             ],
             [
              0.7777777777777778,
              "#fb9f3a"
             ],
             [
              0.8888888888888888,
              "#fdca26"
             ],
             [
              1,
              "#f0f921"
             ]
            ],
            "type": "heatmap"
           }
          ],
          "heatmapgl": [
           {
            "colorbar": {
             "outlinewidth": 0,
             "ticks": ""
            },
            "colorscale": [
             [
              0,
              "#0d0887"
             ],
             [
              0.1111111111111111,
              "#46039f"
             ],
             [
              0.2222222222222222,
              "#7201a8"
             ],
             [
              0.3333333333333333,
              "#9c179e"
             ],
             [
              0.4444444444444444,
              "#bd3786"
             ],
             [
              0.5555555555555556,
              "#d8576b"
             ],
             [
              0.6666666666666666,
              "#ed7953"
             ],
             [
              0.7777777777777778,
              "#fb9f3a"
             ],
             [
              0.8888888888888888,
              "#fdca26"
             ],
             [
              1,
              "#f0f921"
             ]
            ],
            "type": "heatmapgl"
           }
          ],
          "histogram": [
           {
            "marker": {
             "pattern": {
              "fillmode": "overlay",
              "size": 10,
              "solidity": 0.2
             }
            },
            "type": "histogram"
           }
          ],
          "histogram2d": [
           {
            "colorbar": {
             "outlinewidth": 0,
             "ticks": ""
            },
            "colorscale": [
             [
              0,
              "#0d0887"
             ],
             [
              0.1111111111111111,
              "#46039f"
             ],
             [
              0.2222222222222222,
              "#7201a8"
             ],
             [
              0.3333333333333333,
              "#9c179e"
             ],
             [
              0.4444444444444444,
              "#bd3786"
             ],
             [
              0.5555555555555556,
              "#d8576b"
             ],
             [
              0.6666666666666666,
              "#ed7953"
             ],
             [
              0.7777777777777778,
              "#fb9f3a"
             ],
             [
              0.8888888888888888,
              "#fdca26"
             ],
             [
              1,
              "#f0f921"
             ]
            ],
            "type": "histogram2d"
           }
          ],
          "histogram2dcontour": [
           {
            "colorbar": {
             "outlinewidth": 0,
             "ticks": ""
            },
            "colorscale": [
             [
              0,
              "#0d0887"
             ],
             [
              0.1111111111111111,
              "#46039f"
             ],
             [
              0.2222222222222222,
              "#7201a8"
             ],
             [
              0.3333333333333333,
              "#9c179e"
             ],
             [
              0.4444444444444444,
              "#bd3786"
             ],
             [
              0.5555555555555556,
              "#d8576b"
             ],
             [
              0.6666666666666666,
              "#ed7953"
             ],
             [
              0.7777777777777778,
              "#fb9f3a"
             ],
             [
              0.8888888888888888,
              "#fdca26"
             ],
             [
              1,
              "#f0f921"
             ]
            ],
            "type": "histogram2dcontour"
           }
          ],
          "mesh3d": [
           {
            "colorbar": {
             "outlinewidth": 0,
             "ticks": ""
            },
            "type": "mesh3d"
           }
          ],
          "parcoords": [
           {
            "line": {
             "colorbar": {
              "outlinewidth": 0,
              "ticks": ""
             }
            },
            "type": "parcoords"
           }
          ],
          "pie": [
           {
            "automargin": true,
            "type": "pie"
           }
          ],
          "scatter": [
           {
            "fillpattern": {
             "fillmode": "overlay",
             "size": 10,
             "solidity": 0.2
            },
            "type": "scatter"
           }
          ],
          "scatter3d": [
           {
            "line": {
             "colorbar": {
              "outlinewidth": 0,
              "ticks": ""
             }
            },
            "marker": {
             "colorbar": {
              "outlinewidth": 0,
              "ticks": ""
             }
            },
            "type": "scatter3d"
           }
          ],
          "scattercarpet": [
           {
            "marker": {
             "colorbar": {
              "outlinewidth": 0,
              "ticks": ""
             }
            },
            "type": "scattercarpet"
           }
          ],
          "scattergeo": [
           {
            "marker": {
             "colorbar": {
              "outlinewidth": 0,
              "ticks": ""
             }
            },
            "type": "scattergeo"
           }
          ],
          "scattergl": [
           {
            "marker": {
             "colorbar": {
              "outlinewidth": 0,
              "ticks": ""
             }
            },
            "type": "scattergl"
           }
          ],
          "scattermapbox": [
           {
            "marker": {
             "colorbar": {
              "outlinewidth": 0,
              "ticks": ""
             }
            },
            "type": "scattermapbox"
           }
          ],
          "scatterpolar": [
           {
            "marker": {
             "colorbar": {
              "outlinewidth": 0,
              "ticks": ""
             }
            },
            "type": "scatterpolar"
           }
          ],
          "scatterpolargl": [
           {
            "marker": {
             "colorbar": {
              "outlinewidth": 0,
              "ticks": ""
             }
            },
            "type": "scatterpolargl"
           }
          ],
          "scatterternary": [
           {
            "marker": {
             "colorbar": {
              "outlinewidth": 0,
              "ticks": ""
             }
            },
            "type": "scatterternary"
           }
          ],
          "surface": [
           {
            "colorbar": {
             "outlinewidth": 0,
             "ticks": ""
            },
            "colorscale": [
             [
              0,
              "#0d0887"
             ],
             [
              0.1111111111111111,
              "#46039f"
             ],
             [
              0.2222222222222222,
              "#7201a8"
             ],
             [
              0.3333333333333333,
              "#9c179e"
             ],
             [
              0.4444444444444444,
              "#bd3786"
             ],
             [
              0.5555555555555556,
              "#d8576b"
             ],
             [
              0.6666666666666666,
              "#ed7953"
             ],
             [
              0.7777777777777778,
              "#fb9f3a"
             ],
             [
              0.8888888888888888,
              "#fdca26"
             ],
             [
              1,
              "#f0f921"
             ]
            ],
            "type": "surface"
           }
          ],
          "table": [
           {
            "cells": {
             "fill": {
              "color": "#EBF0F8"
             },
             "line": {
              "color": "white"
             }
            },
            "header": {
             "fill": {
              "color": "#C8D4E3"
             },
             "line": {
              "color": "white"
             }
            },
            "type": "table"
           }
          ]
         },
         "layout": {
          "font": {
           "family": "Franklin Gothic",
           "size": 12
          }
         }
        },
        "title": {
         "text": "Model Comparision"
        },
        "yaxis": {
         "range": [
          0,
          1.1
         ]
        }
       }
      },
      "text/html": [
       "<div>                            <div id=\"2948f8f3-4825-462e-b170-8382d9aebc1f\" class=\"plotly-graph-div\" style=\"height:525px; width:100%;\"></div>            <script type=\"text/javascript\">                require([\"plotly\"], function(Plotly) {                    window.PLOTLYENV=window.PLOTLYENV || {};                                    if (document.getElementById(\"2948f8f3-4825-462e-b170-8382d9aebc1f\")) {                    Plotly.newPlot(                        \"2948f8f3-4825-462e-b170-8382d9aebc1f\",                        [{\"hovertemplate\":\"accuracy of %{x} = %{y:.2f}%<extra></extra>\",\"marker\":{\"color\":\"#AF4343\",\"opacity\":0.8,\"line\":{\"color\":\"#000000\",\"width\":1}},\"name\":\"Train\",\"text\":[\"0.9994378864530634\",\"0.892243623112962\",\"0.9680968096809681\"],\"textposition\":\"outside\",\"texttemplate\":\"%{text:.2f}%\",\"width\":0.38,\"x\":[\"RandomForestClassifier\",\"GradientBoostingClassifier\",\"XGBClassifier\"],\"y\":[0.9994378864530634,0.892243623112962,0.9680968096809681],\"type\":\"bar\"},{\"hovertemplate\":\"accuracy of %{x} = %{y:.2f}%<extra></extra>\",\"marker\":{\"color\":\"#C6AA97\",\"opacity\":0.8,\"line\":{\"color\":\"#000000\",\"width\":1}},\"name\":\"validation\",\"text\":[\"0.8453837597330367\",\"0.8645833333333333\",\"0.8530701754385964\"],\"textposition\":\"outside\",\"texttemplate\":\"%{text:.2f}%\",\"width\":0.38,\"x\":[\"RandomForestClassifier\",\"GradientBoostingClassifier\",\"XGBClassifier\"],\"y\":[0.8453837597330367,0.8645833333333333,0.8530701754385964],\"type\":\"bar\"}],                        {\"template\":{\"data\":{\"histogram2dcontour\":[{\"type\":\"histogram2dcontour\",\"colorbar\":{\"outlinewidth\":0,\"ticks\":\"\"},\"colorscale\":[[0.0,\"#0d0887\"],[0.1111111111111111,\"#46039f\"],[0.2222222222222222,\"#7201a8\"],[0.3333333333333333,\"#9c179e\"],[0.4444444444444444,\"#bd3786\"],[0.5555555555555556,\"#d8576b\"],[0.6666666666666666,\"#ed7953\"],[0.7777777777777778,\"#fb9f3a\"],[0.8888888888888888,\"#fdca26\"],[1.0,\"#f0f921\"]]}],\"choropleth\":[{\"type\":\"choropleth\",\"colorbar\":{\"outlinewidth\":0,\"ticks\":\"\"}}],\"histogram2d\":[{\"type\":\"histogram2d\",\"colorbar\":{\"outlinewidth\":0,\"ticks\":\"\"},\"colorscale\":[[0.0,\"#0d0887\"],[0.1111111111111111,\"#46039f\"],[0.2222222222222222,\"#7201a8\"],[0.3333333333333333,\"#9c179e\"],[0.4444444444444444,\"#bd3786\"],[0.5555555555555556,\"#d8576b\"],[0.6666666666666666,\"#ed7953\"],[0.7777777777777778,\"#fb9f3a\"],[0.8888888888888888,\"#fdca26\"],[1.0,\"#f0f921\"]]}],\"heatmap\":[{\"type\":\"heatmap\",\"colorbar\":{\"outlinewidth\":0,\"ticks\":\"\"},\"colorscale\":[[0.0,\"#0d0887\"],[0.1111111111111111,\"#46039f\"],[0.2222222222222222,\"#7201a8\"],[0.3333333333333333,\"#9c179e\"],[0.4444444444444444,\"#bd3786\"],[0.5555555555555556,\"#d8576b\"],[0.6666666666666666,\"#ed7953\"],[0.7777777777777778,\"#fb9f3a\"],[0.8888888888888888,\"#fdca26\"],[1.0,\"#f0f921\"]]}],\"heatmapgl\":[{\"type\":\"heatmapgl\",\"colorbar\":{\"outlinewidth\":0,\"ticks\":\"\"},\"colorscale\":[[0.0,\"#0d0887\"],[0.1111111111111111,\"#46039f\"],[0.2222222222222222,\"#7201a8\"],[0.3333333333333333,\"#9c179e\"],[0.4444444444444444,\"#bd3786\"],[0.5555555555555556,\"#d8576b\"],[0.6666666666666666,\"#ed7953\"],[0.7777777777777778,\"#fb9f3a\"],[0.8888888888888888,\"#fdca26\"],[1.0,\"#f0f921\"]]}],\"contourcarpet\":[{\"type\":\"contourcarpet\",\"colorbar\":{\"outlinewidth\":0,\"ticks\":\"\"}}],\"contour\":[{\"type\":\"contour\",\"colorbar\":{\"outlinewidth\":0,\"ticks\":\"\"},\"colorscale\":[[0.0,\"#0d0887\"],[0.1111111111111111,\"#46039f\"],[0.2222222222222222,\"#7201a8\"],[0.3333333333333333,\"#9c179e\"],[0.4444444444444444,\"#bd3786\"],[0.5555555555555556,\"#d8576b\"],[0.6666666666666666,\"#ed7953\"],[0.7777777777777778,\"#fb9f3a\"],[0.8888888888888888,\"#fdca26\"],[1.0,\"#f0f921\"]]}],\"surface\":[{\"type\":\"surface\",\"colorbar\":{\"outlinewidth\":0,\"ticks\":\"\"},\"colorscale\":[[0.0,\"#0d0887\"],[0.1111111111111111,\"#46039f\"],[0.2222222222222222,\"#7201a8\"],[0.3333333333333333,\"#9c179e\"],[0.4444444444444444,\"#bd3786\"],[0.5555555555555556,\"#d8576b\"],[0.6666666666666666,\"#ed7953\"],[0.7777777777777778,\"#fb9f3a\"],[0.8888888888888888,\"#fdca26\"],[1.0,\"#f0f921\"]]}],\"mesh3d\":[{\"type\":\"mesh3d\",\"colorbar\":{\"outlinewidth\":0,\"ticks\":\"\"}}],\"scatter\":[{\"fillpattern\":{\"fillmode\":\"overlay\",\"size\":10,\"solidity\":0.2},\"type\":\"scatter\"}],\"parcoords\":[{\"type\":\"parcoords\",\"line\":{\"colorbar\":{\"outlinewidth\":0,\"ticks\":\"\"}}}],\"scatterpolargl\":[{\"type\":\"scatterpolargl\",\"marker\":{\"colorbar\":{\"outlinewidth\":0,\"ticks\":\"\"}}}],\"bar\":[{\"error_x\":{\"color\":\"#2a3f5f\"},\"error_y\":{\"color\":\"#2a3f5f\"},\"marker\":{\"line\":{\"color\":\"#E5ECF6\",\"width\":0.5},\"pattern\":{\"fillmode\":\"overlay\",\"size\":10,\"solidity\":0.2}},\"type\":\"bar\"}],\"scattergeo\":[{\"type\":\"scattergeo\",\"marker\":{\"colorbar\":{\"outlinewidth\":0,\"ticks\":\"\"}}}],\"scatterpolar\":[{\"type\":\"scatterpolar\",\"marker\":{\"colorbar\":{\"outlinewidth\":0,\"ticks\":\"\"}}}],\"histogram\":[{\"marker\":{\"pattern\":{\"fillmode\":\"overlay\",\"size\":10,\"solidity\":0.2}},\"type\":\"histogram\"}],\"scattergl\":[{\"type\":\"scattergl\",\"marker\":{\"colorbar\":{\"outlinewidth\":0,\"ticks\":\"\"}}}],\"scatter3d\":[{\"type\":\"scatter3d\",\"line\":{\"colorbar\":{\"outlinewidth\":0,\"ticks\":\"\"}},\"marker\":{\"colorbar\":{\"outlinewidth\":0,\"ticks\":\"\"}}}],\"scattermapbox\":[{\"type\":\"scattermapbox\",\"marker\":{\"colorbar\":{\"outlinewidth\":0,\"ticks\":\"\"}}}],\"scatterternary\":[{\"type\":\"scatterternary\",\"marker\":{\"colorbar\":{\"outlinewidth\":0,\"ticks\":\"\"}}}],\"scattercarpet\":[{\"type\":\"scattercarpet\",\"marker\":{\"colorbar\":{\"outlinewidth\":0,\"ticks\":\"\"}}}],\"carpet\":[{\"aaxis\":{\"endlinecolor\":\"#2a3f5f\",\"gridcolor\":\"white\",\"linecolor\":\"white\",\"minorgridcolor\":\"white\",\"startlinecolor\":\"#2a3f5f\"},\"baxis\":{\"endlinecolor\":\"#2a3f5f\",\"gridcolor\":\"white\",\"linecolor\":\"white\",\"minorgridcolor\":\"white\",\"startlinecolor\":\"#2a3f5f\"},\"type\":\"carpet\"}],\"table\":[{\"cells\":{\"fill\":{\"color\":\"#EBF0F8\"},\"line\":{\"color\":\"white\"}},\"header\":{\"fill\":{\"color\":\"#C8D4E3\"},\"line\":{\"color\":\"white\"}},\"type\":\"table\"}],\"barpolar\":[{\"marker\":{\"line\":{\"color\":\"#E5ECF6\",\"width\":0.5},\"pattern\":{\"fillmode\":\"overlay\",\"size\":10,\"solidity\":0.2}},\"type\":\"barpolar\"}],\"pie\":[{\"automargin\":true,\"type\":\"pie\"}]},\"layout\":{\"font\":{\"family\":\"Franklin Gothic\",\"size\":12}}},\"legend\":{\"orientation\":\"h\",\"yanchor\":\"bottom\",\"y\":1,\"xanchor\":\"right\",\"x\":0.97},\"title\":{\"text\":\"Model Comparision\"},\"showlegend\":true,\"barmode\":\"group\",\"bargap\":0.15,\"yaxis\":{\"range\":[0,1.1]}},                        {\"responsive\": true}                    ).then(function(){\n",
       "                            \n",
       "var gd = document.getElementById('2948f8f3-4825-462e-b170-8382d9aebc1f');\n",
       "var x = new MutationObserver(function (mutations, observer) {{\n",
       "        var display = window.getComputedStyle(gd).display;\n",
       "        if (!display || display === 'none') {{\n",
       "            console.log([gd, 'removed!']);\n",
       "            Plotly.purge(gd);\n",
       "            observer.disconnect();\n",
       "        }}\n",
       "}});\n",
       "\n",
       "// Listen for the removal of the full notebook cells\n",
       "var notebookContainer = gd.closest('#notebook-container');\n",
       "if (notebookContainer) {{\n",
       "    x.observe(notebookContainer, {childList: true});\n",
       "}}\n",
       "\n",
       "// Listen for the clearing of the current output cell\n",
       "var outputEl = gd.closest('.output');\n",
       "if (outputEl) {{\n",
       "    x.observe(outputEl, {childList: true});\n",
       "}}\n",
       "\n",
       "                        })                };                });            </script>        </div>"
      ]
     },
     "metadata": {},
     "output_type": "display_data"
    }
   ],
   "source": [
    "import plotly.graph_objects as go\n",
    "f2=go.Figure()\n",
    "models= ['RandomForestClassifier', 'GradientBoostingClassifier','XGBClassifier']\n",
    "\n",
    "f2.add_trace(go.Bar(x=models, y=train_score, name='Train', text=train_score , textposition='outside',\n",
    "                     texttemplate='%{text:.2f}%', width=0.38, \n",
    "                     hovertemplate='accuracy of %{x} = %{y:.2f}%<extra></extra>',\n",
    "                     marker=dict(color='#AF4343', opacity=0.8)))\n",
    "f2.add_trace(go.Bar(x=models, y=validation_score, name='validation', text=validation_score, textposition='outside',\n",
    "                     texttemplate='%{text:.2f}%', width=0.38, \n",
    "                     hovertemplate='accuracy of %{x} = %{y:.2f}%<extra></extra>',\n",
    "                     marker=dict(color='#C6AA97', opacity=0.8)))\n",
    "\n",
    "\n",
    "temp = dict(layout=go.Layout(font=dict(family=\"Franklin Gothic\", size=12)))\n",
    "f2.update_traces(marker=dict(line=dict(width=1, color='#000000')))\n",
    "f2.update_layout(title=\"Model Comparision\", showlegend=True, template=temp, \n",
    "                  legend=dict(orientation=\"h\", yanchor=\"bottom\", y=1, xanchor=\"right\", x=.97),\n",
    "                  barmode='group', bargap=.15)\n",
    "f2.update_yaxes(range=(0,1.1))"
   ]
  },
  {
   "cell_type": "markdown",
   "id": "b3f023c2",
   "metadata": {},
   "source": [
    "### There is overfitting in all models so we will select the RandomForestClassifier. Let's use GridSearchCV to tune hyperparameters."
   ]
  },
  {
   "cell_type": "code",
   "execution_count": 58,
   "id": "d71d8915",
   "metadata": {},
   "outputs": [
    {
     "name": "stdout",
     "output_type": "stream",
     "text": [
      "Best Parameters: {'class_weight': None, 'criterion': 'entropy', 'max_depth': 30, 'max_features': 'log2', 'min_samples_leaf': 1, 'min_samples_split': 10, 'n_estimators': 100}\n",
      "Accuracy: 0.80\n",
      "Classification Report:\n",
      "               precision    recall  f1-score   support\n",
      "\n",
      "       FALSE       0.75      0.51      0.61       193\n",
      "        TRUE       0.81      0.93      0.87       445\n",
      "\n",
      "    accuracy                           0.80       638\n",
      "   macro avg       0.78      0.72      0.74       638\n",
      "weighted avg       0.80      0.80      0.79       638\n",
      "\n",
      "Confusion Matrix:\n",
      " [[ 98  95]\n",
      " [ 32 413]]\n"
     ]
    }
   ],
   "source": [
    "# Standardize the features\n",
    "scaler = StandardScaler()\n",
    "X_train_scaled = scaler.fit_transform(X_train)\n",
    "X_test_scaled = scaler.transform(X_test)\n",
    "\n",
    "# Define the hyperparameter grid\n",
    "param_grid = {\n",
    "    'n_estimators': [50, 100, 200],\n",
    "    'max_depth': [None, 10, 20, 30],\n",
    "    'min_samples_split': [2, 5, 10],\n",
    "    'min_samples_leaf': [1, 2, 4],\n",
    "    'max_features': ['sqrt', 'log2'], \n",
    "    'criterion': ['gini', 'entropy'],\n",
    "    'class_weight': [None, 'balanced']\n",
    "}\n",
    "\n",
    "# Create the RandomForestClassifier model\n",
    "model = RandomForestClassifier(random_state=42)\n",
    "\n",
    "# Perform GridSearchCV\n",
    "grid_search = GridSearchCV(estimator=model, param_grid=param_grid, cv=5)\n",
    "grid_search.fit(X_train_scaled, y_train)\n",
    "\n",
    "# Retrieve the best model and best parameters\n",
    "best_model = grid_search.best_estimator_\n",
    "best_params = grid_search.best_params_\n",
    "\n",
    "# Retrain the best model on the entire training set\n",
    "best_model.fit(X_train_scaled, y_train)\n",
    "\n",
    "# Model prediction\n",
    "y_pred = best_model.predict(X_test_scaled)\n",
    "\n",
    "# Model evaluation\n",
    "accuracy = accuracy_score(y_test, y_pred)\n",
    "classification_report_str = classification_report(y_test, y_pred)\n",
    "conf_matrix = confusion_matrix(y_test, y_pred)\n",
    "\n",
    "# Print the results\n",
    "print(f\"Best Parameters: {best_params}\")\n",
    "print(f\"Accuracy: {accuracy:.2f}\")\n",
    "print(\"Classification Report:\\n\", classification_report_str)\n",
    "print(\"Confusion Matrix:\\n\", conf_matrix)\n"
   ]
  },
  {
   "cell_type": "markdown",
   "id": "b4e74f81",
   "metadata": {},
   "source": [
    "The classification report provides several metrics to evaluate the performance of a classification model. Here's an explanation of the key metrics in the classification report:\n",
    "\n",
    "### Precision:\n",
    "Precision is the ratio of correctly predicted positive observations to the total predicted positives.\n",
    "Precision = True Positives / (True Positives + False Positives)\n",
    "For the 'TRUE' class:\n",
    "Precision = 0.82\n",
    "For the 'FALSE' class:\n",
    "Precision = 0.74\n",
    "### Recall (Sensitivity or True Positive Rate):\n",
    "Recall is the ratio of correctly predicted positive observations to all the actual positives.\n",
    "Recall = True Positives / (True Positives + False Negatives)\n",
    "For the 'TRUE' class:\n",
    "Recall = 0.91\n",
    "For the 'FALSE' class:\n",
    "Recall = 0.54\n",
    "### F1-Score:\n",
    "The F1-score is the weighted average of precision and recall. It is a balance between precision and recall.\n",
    "F1-Score = 2 * (Precision * Recall) / (Precision + Recall)\n",
    "For the 'TRUE' class:\n",
    "F1-Score = 0.86\n",
    "For the 'FALSE' class:\n",
    "F1-Score = 0.63\n",
    "### Support:\n",
    "Support is the number of actual occurrences of the class in the specified dataset.\n",
    "For the 'TRUE' class:\n",
    "Support = 445\n",
    "For the 'FALSE' class:\n",
    "Support = 193\n",
    "### Accuracy:\n",
    "Accuracy is the ratio of correctly predicted observations to the total observations.\n",
    "Accuracy = (True Positives + True Negatives) / (Total Observations)\n",
    "Overall Accuracy = 0.79\n",
    "### Macro Average and Weighted Average:\n",
    "Macro average computes the average of metrics for each class without considering class imbalance.\n",
    "Weighted average considers the class imbalance by weighting each class's metrics by its support.\n",
    "\n",
    "In summary, our model has achieved an overall accuracy of 0.80 approximately, indicating that it correctly predicted the class for 80% of the observations. The classification report provides a more detailed assessment of the model's performance for each class. The high precision, recall, and F1-score for the 'TRUE' class suggest good performance, while the 'FALSE' class has lower values, indicating room for improvement, especially in recall."
   ]
  },
  {
   "cell_type": "code",
   "execution_count": 29,
   "id": "7695baca",
   "metadata": {},
   "outputs": [
    {
     "data": {
      "image/png": "[encoded data removed]",
      "text/plain": [
       "<Figure size 640x480 with 2 Axes>"
      ]
     },
     "metadata": {},
     "output_type": "display_data"
    }
   ],
   "source": [
    "# Plot confusion matrix\n",
    "sns.heatmap(conf_matrix, annot=True, fmt=\"d\", cmap=\"Blues\", xticklabels=['Inherited Wealth', 'Self Made Billionaires'], yticklabels=['Inherited Wealth', 'Self Made Billionaires'])\n",
    "plt.title('Confusion Matrix')\n",
    "plt.xlabel('Predicted Label')\n",
    "plt.ylabel('True Label')\n",
    "plt.show()"
   ]
  },
  {
   "cell_type": "markdown",
   "id": "38f538d7",
   "metadata": {},
   "source": [
    "### The confusion matrix plot visually represents these four components. Here's how to interpret the plot:\n",
    "\n",
    "### Top-Left (TP): The top-left cell represents the number of instances where the true class is positive, and the model correctly predicted it as positive.\n",
    "\n",
    "### Top-Right (FP): The top-right cell represents the number of instances where the true class is negative, but the model incorrectly predicted it as positive.\n",
    "\n",
    "### Bottom-Left (FN): The bottom-left cell represents the number of instances where the true class is positive, but the model incorrectly predicted it as negative.\n",
    "\n",
    "### Bottom-Right (TN): The bottom-right cell represents the number of instances where the true class is negative, and the model correctly predicted it as negative."
   ]
  },
  {
   "cell_type": "code",
   "execution_count": null,
   "id": "d1a60108",
   "metadata": {},
   "outputs": [],
   "source": []
  }
 ],
 "metadata": {
  "kernelspec": {
   "display_name": "Python 3 (ipykernel)",
   "language": "python",
   "name": "python3"
  },
  "language_info": {
   "codemirror_mode": {
    "name": "ipython",
    "version": 3
   },
   "file_extension": ".py",
   "mimetype": "text/x-python",
   "name": "python",
   "nbconvert_exporter": "python",
   "pygments_lexer": "ipython3",
   "version": "3.11.4"
  }
 },
 "nbformat": 4,
 "nbformat_minor": 5
}
